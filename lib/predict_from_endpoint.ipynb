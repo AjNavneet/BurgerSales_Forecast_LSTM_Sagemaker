{
 "cells": [
  {
   "cell_type": "markdown",
   "id": "9d2024d7",
   "metadata": {},
   "source": [
    "# Prediction using Endpoint"
   ]
  },
  {
   "cell_type": "code",
   "execution_count": 1,
   "id": "ffbb8678",
   "metadata": {},
   "outputs": [],
   "source": [
    "import numpy as np\n",
    "import boto3\n",
    "import pickle\n",
    "\n",
    "from sagemaker.tensorflow import TensorFlowPredictor"
   ]
  },
  {
   "cell_type": "code",
   "execution_count": 2,
   "id": "cb2b7555",
   "metadata": {},
   "outputs": [],
   "source": [
    "# Name of the SageMaker endpoint\n",
    "endpoint_name = 'your_endpoint'\n",
    "\n",
    "# Name of the S3 bucket where all resources are stored\n",
    "bucket_name = 'your_bucket_name'\n"
   ]
  },
  {
   "cell_type": "code",
   "execution_count": 3,
   "id": "729359eb",
   "metadata": {},
   "outputs": [],
   "source": [
    "# Downloading pickle files of preprocessing steps from S3\n",
    "\n",
    "# Creating a Boto3 S3 resource\n",
    "s3_bucket = boto3.resource('s3').Bucket(bucket_name)\n",
    "\n",
    "# Downloading prepr_x pickle file\n",
    "s3_bucket.download_file(\"prepr_x_inside_s3.pkl\", \"prepr_x_from_s3.pkl\")\n",
    "prepr_x = pickle.load(open(\"prepr_x_from_s3.pkl\", \"rb\"))\n",
    "\n",
    "# Downloading prepr_z pickle file\n",
    "s3_bucket.download_file(\"prepr_z_inside_s3.pkl\", \"prepr_z_from_s3.pkl\")\n",
    "prepr_z = pickle.load(open(\"prepr_z_from_s3.pkl\", \"rb\"))\n",
    "\n",
    "# Downloading prepr_y pickle file\n",
    "s3_bucket.download_file(\"prepr_y_inside_s3.pkl\", \"prepr_y_from_s3.pkl\")\n",
    "prepr_y = pickle.load(open(\"prepr_y_from_s3.pkl\", \"rb\"))\n"
   ]
  },
  {
   "cell_type": "code",
   "execution_count": 4,
   "id": "230b9ae8",
   "metadata": {},
   "outputs": [],
   "source": [
    "# Creating a predictor object for the specified SageMaker endpoint\n",
    "predictor = TensorFlowPredictor(endpoint_name)\n"
   ]
  },
  {
   "cell_type": "code",
   "execution_count": 5,
   "id": "e16d301d",
   "metadata": {},
   "outputs": [
    {
     "data": {
      "text/plain": [
       "{'outputs': [[-2.58965182],\n",
       "  [-2.65436244],\n",
       "  [-2.76843762],\n",
       "  [-2.53111768],\n",
       "  [-2.64681411],\n",
       "  [-2.6505897],\n",
       "  [-2.02187276],\n",
       "  [-2.13893867],\n",
       "  [-2.38097215],\n",
       "  [-2.66825271]]}"
      ]
     },
     "execution_count": 5,
     "metadata": {},
     "output_type": "execute_result"
    }
   ],
   "source": [
    "# Random data, just for example\n",
    "# Remember to preprocess the data if needed (not in this case as it's just for an example)\n",
    "\n",
    "# Generating random sample data\n",
    "x_sample = np.random.normal(size=(10, 14, 6))\n",
    "z_sample = np.random.normal(size=(10, 12))\n",
    "\n",
    "# Rescaling the data using the preprocessed objects\n",
    "x_sample = prepr_x.transform(x_sample.reshape(x_sample.shape[0], -1)).reshape(x_sample.shape)\n",
    "z_sample = prepr_z.transform(z_sample)\n",
    "\n",
    "# Creating input dictionary for prediction\n",
    "inputs = {\n",
    "    'inputs': {\n",
    "        'input_1': x_sample.tolist(),\n",
    "        'input_2': z_sample.tolist()\n",
    "    }\n",
    "}\n",
    "\n",
    "# Predicting the results using the predictor object\n",
    "results = predictor.predict(inputs)\n",
    "results\n"
   ]
  },
  {
   "cell_type": "code",
   "execution_count": 6,
   "id": "abc4e09e",
   "metadata": {},
   "outputs": [
    {
     "data": {
      "text/plain": [
       "array([[ 6.89966816],\n",
       "       [ 5.46906551],\n",
       "       [ 3.83076834],\n",
       "       [ 9.22712789],\n",
       "       [ 5.60887014],\n",
       "       [ 5.53024859],\n",
       "       [59.95721122],\n",
       "       [42.76994953],\n",
       "       [18.07849286],\n",
       "       [ 5.27507051]])"
      ]
     },
     "execution_count": 6,
     "metadata": {},
     "output_type": "execute_result"
    }
   ],
   "source": [
    "# Extracting raw predictions from the results\n",
    "raw_prediction = results['outputs']\n",
    "\n",
    "# Transforming the predictions to their original values\n",
    "prediction = prepr_y.inverse_transform(raw_prediction)\n",
    "prediction\n"
   ]
  },
  {
   "cell_type": "code",
   "execution_count": null,
   "id": "226909a1",
   "metadata": {},
   "outputs": [],
   "source": []
  }
 ],
 "metadata": {
  "kernelspec": {
   "display_name": "Python 3.8.8 ('base')",
   "language": "python",
   "name": "python3"
  },
  "language_info": {
   "codemirror_mode": {
    "name": "ipython",
    "version": 3
   },
   "file_extension": ".py",
   "mimetype": "text/x-python",
   "name": "python",
   "nbconvert_exporter": "python",
   "pygments_lexer": "ipython3",
   "version": "3.8.8"
  },
  "vscode": {
   "interpreter": {
    "hash": "9054e5812adb29eebbcd6b680e8ef1afc4fe6e00a75ff130e735bd95b5b32301"
   }
  }
 },
 "nbformat": 4,
 "nbformat_minor": 5
}
